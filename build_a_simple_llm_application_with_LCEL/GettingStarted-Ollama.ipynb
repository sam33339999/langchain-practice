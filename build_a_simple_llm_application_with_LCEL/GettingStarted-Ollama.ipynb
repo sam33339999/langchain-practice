{
 "cells": [
  {
   "cell_type": "code",
   "execution_count": 1,
   "id": "490db55c-3ac5-4086-a181-b71e1ca3cb10",
   "metadata": {
    "collapsed": true,
    "jupyter": {
     "outputs_hidden": true,
     "source_hidden": true
    },
    "scrolled": true
   },
   "outputs": [
    {
     "name": "stdout",
     "output_type": "stream",
     "text": [
      "\u001b[2mUsing Python 3.11.7 environment at /Users/yaxin/Projects/llm/llm\u001b[0m\n",
      "\u001b[2mAudited \u001b[1m1 package\u001b[0m \u001b[2min 21ms\u001b[0m\u001b[0m\n"
     ]
    }
   ],
   "source": [
    "!uv pip install langchain"
   ]
  },
  {
   "cell_type": "code",
   "execution_count": 4,
   "id": "5c3c7495-44fc-437d-abae-b92cf4e7bc95",
   "metadata": {
    "collapsed": true,
    "jupyter": {
     "outputs_hidden": true,
     "source_hidden": true
    },
    "scrolled": true
   },
   "outputs": [
    {
     "name": "stdout",
     "output_type": "stream",
     "text": [
      "\u001b[2mUsing Python 3.11.7 environment at /Users/yaxin/Projects/llm/llm\u001b[0m\n",
      "\u001b[2K\u001b[2mResolved \u001b[1m25 packages\u001b[0m \u001b[2min 1.08s\u001b[0m\u001b[0m                                        \u001b[0m\n",
      "\u001b[2mAudited \u001b[1m25 packages\u001b[0m \u001b[2min 0.98ms\u001b[0m\u001b[0m\n"
     ]
    }
   ],
   "source": [
    "!uv pip install -U langchain-ollama"
   ]
  },
  {
   "cell_type": "markdown",
   "id": "cb5420b2-84f7-4ef3-99af-240662faf71b",
   "metadata": {},
   "source": [
    "# 完成這個你會學會:\n",
    "\n",
    "- 如何使用一個 language model\n",
    "- 使用 [PromptTemplate](https://python.langchain.com/docs/concepts/prompt_templates/) 和 [OutputParsers](https://python.langchain.com/docs/concepts/output_parsers/)\n",
    "- 使用 LangChain Expression Language (LCEL) 將元件連結在一起\n",
    "- 除錯與追蹤你的程式，使用 [LangSmith](https://docs.smith.langchain.com/)\n",
    "- 部署你的應用到 [LangServe](https://python.langchain.com/docs/concepts/#langserve)\n",
    "\n",
    "安裝，目前使用 Jupyter Notebook 進行互動學習，相對來說直觀且簡單"
   ]
  },
  {
   "cell_type": "markdown",
   "id": "2f2f1e67-d7a7-4f26-80f0-ce0643950537",
   "metadata": {},
   "source": [
    "### 一個非常簡單的使用案例（快速使用）- Ollama !!"
   ]
  },
  {
   "cell_type": "code",
   "execution_count": 1,
   "id": "3fef015d-4902-446f-91bb-46252301e6aa",
   "metadata": {},
   "outputs": [
    {
     "name": "stdout",
     "output_type": "stream",
     "text": [
      "好的，讓我們逐步來分析\"LangChain\"這個概念。\n",
      "\n",
      "1. 首先，\"Lang\"這個詞彙可以聯想到的是語言、程式語言或對話等意思。因此，\"Lang\"可能是這個詞語的一部分。\n",
      "2. 然而，“Chain”在科技界很常見，特別是在數據和算法領域，指的是一個連接在一起的計算工具鏈條。\n",
      "\n",
      "考慮到以上信息，可能有兩種解釋：\n",
      "\n",
      "1. **LangChain 可能是一種使用語言模型來構建和操作大規模數字代理（Large-Scale Digital Agents, LSDAs）的框架**。在這個框架中，\"Lang\"指的是語言模型，而 \"Chain\" 可能是指一個相連接的、協同工作的工具或技術系統。\n",
      "\n",
      "2. **另一種解釋是，可能是一種新的研究領域，將自然語言處理（NLP）、深度學習和計算機視覺等技術結合起來**，用來構建更強大的應用程序。在這種情況下，“LangChain”可能是對這個新興領域的稱呼。\n",
      "\n",
      "但是，\"LangChain\"並不是一個已知的現有概念或技術。它可能是一種新興的研究方向、學術論文中的觀點，或者是一個尚未廣泛認可的概念。如果這是從某一特定資料源獲得的信息，那麼請提供更多的上下文以便更準確地回答您的問題。\n"
     ]
    }
   ],
   "source": [
    "from langchain_core.prompts import ChatPromptTemplate\n",
    "from langchain_ollama.llms import OllamaLLM\n",
    "\n",
    "template = \"\"\"問題: {question}\n",
    "\n",
    "回答: 讓我們一步一步的思考.\"\"\"\n",
    "\n",
    "prompt = ChatPromptTemplate.from_template(template)\n",
    "\n",
    "model = OllamaLLM(model=\"qwen2.5:3b\")\n",
    "\n",
    "chain = prompt | model\n",
    "\n",
    "result = chain.invoke({\"question\": \"什麼是 LangChain?\"})\n",
    "\n",
    "print(result)"
   ]
  },
  {
   "cell_type": "markdown",
   "id": "2d02d249-d68c-4276-acd9-3482728018e8",
   "metadata": {},
   "source": [
    "# 我們應該學會怎麼使用模型！\n",
    "> ### 使用 Ollama 當作 LLM Server [Link](https://python.langchain.com/docs/integrations/llms/ollama/)\n",
    "> 由於我們經費有限，我們使用 Ollama 當作載體，進行 LangChain 的學習！\n",
    "> ```python\n",
    "> # 提供商的部分要參考 LangChain 官方網站提供\n",
    "> langchain_ollama.llms import OllamaLLM\n",
    "> ```\n",
    "\n",
    "---\n",
    "\n",
    "ChatModel 是 LangChain *Runnables* 的實例，\n",
    "這意味著它們公開了一個用於與它們交互的標準介面。\n",
    "\n",
    "要簡單地調用模型，我們可以將消息清單傳遞給 .invoke 方法\n"
   ]
  },
  {
   "cell_type": "code",
   "execution_count": 2,
   "id": "92e29484-cb0e-4eb7-b11e-3452ed87d7f4",
   "metadata": {},
   "outputs": [
    {
     "name": "stdout",
     "output_type": "stream",
     "text": [
      "你好！你能做什麼！！\n"
     ]
    }
   ],
   "source": [
    "from langchain_ollama.llms import OllamaLLM\n",
    "from langchain_core.messages import HumanMessage, SystemMessage\n",
    "\n",
    "model = OllamaLLM(model=\"qwen2.5:3b\")\n",
    "messages = [\n",
    "    SystemMessage(content=\"Translate the following from English into 繁體中文\"),\n",
    "    HumanMessage(content=\"Hi! What can you do !!\"),\n",
    "]\n",
    "\n",
    "result = model.invoke(messages)\n",
    "\n",
    "print(result)"
   ]
  },
  {
   "cell_type": "code",
   "execution_count": 3,
   "id": "caa6a725-3109-4ff1-bca4-d37518fe2413",
   "metadata": {},
   "outputs": [
    {
     "name": "stdout",
     "output_type": "stream",
     "text": [
      "首先，我们需要将中文翻译成日文。您提供的中文内容是 \"嗨～ 你可以做到什麼事情？\" （\"Hey～你能做什麼事情？\"），让我们进行翻译。\n",
      "\n",
      "英文版本： \"Hey～你能做什麼事情？\"\n",
      "日文翻译： \" Hey～何をできるの？\"\n",
      "\n",
      "这是根据英文对这个句子的直译。如果你需要更自然的日语表达，可以调整为：\n",
      "\" へえ、何ができるの?\"\n",
      "\n",
      "这是一个比较自然的回答方式，意思是“哦，能做什么呢？”。\n",
      "\n",
      "请告知您是否满意以上翻译或是否有其他特定的要求。\n"
     ]
    }
   ],
   "source": [
    "result = chain.invoke([\n",
    "    SystemMessage(content=\"Translate the following from ˊ中文 into 日文\"),\n",
    "    HumanMessage(content=\"嗨～ 你可以做到什麼事情？\"),\n",
    "])\n",
    "\n",
    "print(result)"
   ]
  },
  {
   "cell_type": "markdown",
   "id": "f3ee874a-bf45-4fa0-a13e-f3b8003a0f05",
   "metadata": {},
   "source": [
    "# [PromptTemplate](https://python.langchain.com/api_reference/core/prompts/langchain_core.prompts.chat.ChatPromptTemplate.html) 提示詞模板 & [OutputParser](https://python.langchain.com/docs/concepts/output_parsers/) 輸出解析器！\n",
    "\n",
    "- `PromptTemplates` 是 LangChain 中的一個概念，旨在協助這種轉換。<br/>\n",
    "它們接收原始使用者輸入並傳回準備傳遞到語言模型的資料（提示）。\n",
    "\n",
    "- `OutputParser` 客製化輸出模板： 導出更符合我們需要、結構化的格式\n",
    "\n",
    "---\n",
    "\n",
    "我們可以使用 `|` 簡單的建立鏈。 使用 `|` 運算符將兩個元素組合在一起。\n"
   ]
  },
  {
   "cell_type": "code",
   "execution_count": 4,
   "id": "4a42a1ac-b12f-48b8-8a60-40630133d7f6",
   "metadata": {},
   "outputs": [
    {
     "name": "stdout",
     "output_type": "stream",
     "text": [
      "messages=[SystemMessage(content='翻譯語言到對應的語言: English:', additional_kwargs={}, response_metadata={}), HumanMessage(content='最近安好？', additional_kwargs={}, response_metadata={})]\n"
     ]
    }
   ],
   "source": [
    "# PromptTemplate !!!\n",
    "\n",
    "from langchain_core.prompts import ChatPromptTemplate\n",
    "\n",
    "system_template = \"翻譯語言到對應的語言: {language}:\"\n",
    "prompt_template = ChatPromptTemplate.from_messages(\n",
    "    [(\"system\", system_template), (\"user\", \"{text}\")]\n",
    ")\n",
    "\n",
    "result = prompt_template.invoke({\"language\": \"English\", \"text\": \"最近安好？\"})\n",
    "\n",
    "print(result)"
   ]
  },
  {
   "cell_type": "code",
   "execution_count": 5,
   "id": "c261ca2e-b8e1-4074-9665-dc9f41d0c9cf",
   "metadata": {
    "scrolled": true
   },
   "outputs": [],
   "source": [
    "# OutputParser !!!\n",
    "\n",
    "from langchain_core.output_parsers import StrOutputParser\n",
    "parser = StrOutputParser()"
   ]
  },
  {
   "cell_type": "code",
   "execution_count": 9,
   "id": "fced47f3-717e-4326-9e7c-f1bd8b905af5",
   "metadata": {},
   "outputs": [
    {
     "name": "stdout",
     "output_type": "stream",
     "text": [
      "Hello! Do you have any good places to go recently?\n"
     ]
    }
   ],
   "source": [
    "chain = prompt_template | model | parser\n",
    "\n",
    "result = chain.invoke({\"language\": \"English\", \"text\": \"你好嗎！ 最近有什麼地方好去的？\"})\n",
    "\n",
    "print(result)"
   ]
  }
 ],
 "metadata": {
  "kernelspec": {
   "display_name": "Python 3 (ipykernel)",
   "language": "python",
   "name": "python3"
  },
  "language_info": {
   "codemirror_mode": {
    "name": "ipython",
    "version": 3
   },
   "file_extension": ".py",
   "mimetype": "text/x-python",
   "name": "python",
   "nbconvert_exporter": "python",
   "pygments_lexer": "ipython3",
   "version": "3.11.7"
  }
 },
 "nbformat": 4,
 "nbformat_minor": 5
}
