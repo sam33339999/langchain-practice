{
 "cells": [
  {
   "cell_type": "code",
   "execution_count": 1,
   "id": "490db55c-3ac5-4086-a181-b71e1ca3cb10",
   "metadata": {
    "collapsed": true,
    "jupyter": {
     "outputs_hidden": true,
     "source_hidden": true
    },
    "scrolled": true
   },
   "outputs": [
    {
     "name": "stdout",
     "output_type": "stream",
     "text": [
      "\u001b[2mUsing Python 3.11.7 environment at /Users/yaxin/Projects/llm/llm\u001b[0m\n",
      "\u001b[2mAudited \u001b[1m1 package\u001b[0m \u001b[2min 21ms\u001b[0m\u001b[0m\n"
     ]
    }
   ],
   "source": [
    "!uv pip install langchain"
   ]
  },
  {
   "cell_type": "code",
   "execution_count": 4,
   "id": "5c3c7495-44fc-437d-abae-b92cf4e7bc95",
   "metadata": {
    "collapsed": true,
    "jupyter": {
     "outputs_hidden": true,
     "source_hidden": true
    },
    "scrolled": true
   },
   "outputs": [
    {
     "name": "stdout",
     "output_type": "stream",
     "text": [
      "\u001b[2mUsing Python 3.11.7 environment at /Users/yaxin/Projects/llm/llm\u001b[0m\n",
      "\u001b[2K\u001b[2mResolved \u001b[1m25 packages\u001b[0m \u001b[2min 1.08s\u001b[0m\u001b[0m                                        \u001b[0m\n",
      "\u001b[2mAudited \u001b[1m25 packages\u001b[0m \u001b[2min 0.98ms\u001b[0m\u001b[0m\n"
     ]
    }
   ],
   "source": [
    "!uv pip install -U langchain-ollama"
   ]
  },
  {
   "cell_type": "markdown",
   "id": "cb5420b2-84f7-4ef3-99af-240662faf71b",
   "metadata": {},
   "source": [
    "# 完成這個你會學會:\n",
    "\n",
    "- 如何使用一個 language model\n",
    "- 使用 [PromptTemplate](https://python.langchain.com/docs/concepts/prompt_templates/) 和 [OutputParsers](https://python.langchain.com/docs/concepts/output_parsers/)\n",
    "- 使用 LangChain Expression Language (LCEL) 將元件連結在一起\n",
    "- 除錯與追蹤你的程式，使用 [LangSmith](https://docs.smith.langchain.com/)\n",
    "- 部署你的應用到 [LangServe](https://python.langchain.com/docs/concepts/#langserve)\n",
    "\n",
    "安裝，目前使用 Jupyter Notebook 進行互動學習，相對來說直觀且簡單"
   ]
  },
  {
   "cell_type": "markdown",
   "id": "2d02d249-d68c-4276-acd9-3482728018e8",
   "metadata": {},
   "source": [
    "## 我們應該學會怎麼使用模型！\n",
    "> ### 使用 Ollama 當作 LLM Server [Link](https://python.langchain.com/docs/integrations/llms/ollama/)\n",
    "> 由於我們經費有限，我們使用 Ollama 當作載體，進行 LangChain 的學習！\n",
    "> ```python\n",
    "> # 提供商的部分要參考 LangChain 官方網站提供\n",
    "> langchain_ollama.llms import OllamaLLM\n",
    "> ```\n",
    "\n",
    "---\n",
    "\n",
    "ChatModel 是 LangChain *Runnables* 的實例，\n",
    "這意味著它們公開了一個用於與它們交互的標準介面。\n",
    "\n",
    "要簡單地調用模型，我們可以將消息清單傳遞給 .invoke 方法\n"
   ]
  },
  {
   "cell_type": "code",
   "execution_count": 5,
   "id": "92e29484-cb0e-4eb7-b11e-3452ed87d7f4",
   "metadata": {},
   "outputs": [
    {
     "data": {
      "text/plain": [
       "'你好！你能做什麼！！'"
      ]
     },
     "execution_count": 5,
     "metadata": {},
     "output_type": "execute_result"
    }
   ],
   "source": [
    "from langchain_ollama.llms import OllamaLLM\n",
    "from langchain_core.messages import HumanMessage, SystemMessage\n",
    "\n",
    "model = OllamaLLM(model=\"qwen2.5:3b\")\n",
    "messages = [\n",
    "    SystemMessage(content=\"Translate the following from English into 繁體中文\"),\n",
    "    HumanMessage(content=\"Hi! What can you do !!\"),\n",
    "]\n",
    "\n",
    "model.invoke(messages)"
   ]
  },
  {
   "cell_type": "code",
   "execution_count": 12,
   "id": "c261ca2e-b8e1-4074-9665-dc9f41d0c9cf",
   "metadata": {
    "scrolled": true
   },
   "outputs": [
    {
     "data": {
      "text/plain": [
       "'好的，讓我們一起分析一下 \"LangChain\"。\\n\\n首先，“Lang”這部分顯然是指“語言”，那麼“Chain”可能是指一個連接、串聯的概念。如果考慮到技術領域，\"LangChain\"這個詞組可能與自然語言處理(NLP)領域相關。\\n\\n在NLP領域中，有很多框架和工具都嘗試通過不同的方式來提高我們與計算機進行溝通的能力，尤其是當涉及到人類語言（比如中文、英文等）時。因此，“LangChain”可能會是一個新興的框架或項目，專注於利用一種或多種技術來構建一個高效且強大的自然語言處理系統。\\n\\n總之，\"LangChain\"這個詞組可能指的是在自然語言處理領域內的一個特定項目、框架或是工具。為了更準確地回答你的問題，需要更多的背景信息或者是具體來源。\\n\\n如果你有更多的信息或者不同的理解方向，請告訴我！'"
      ]
     },
     "execution_count": 12,
     "metadata": {},
     "output_type": "execute_result"
    }
   ],
   "source": [
    "from langchain_core.output_parsers import StrOutputParser\n",
    "\n",
    "\n",
    "parser = StrOutputParser()\n",
    "parser.invoke(result)"
   ]
  },
  {
   "cell_type": "markdown",
   "id": "4760eb64-07f1-4dd3-b30d-452863b4295c",
   "metadata": {},
   "source": [
    "---\n",
    "\n",
    "我們可以使用 `|` 簡單的建立鏈。 使用 `|` 運算符將兩個元素組合在一起。"
   ]
  },
  {
   "cell_type": "code",
   "execution_count": 13,
   "id": "ba88a305-5367-4169-9e20-cd34cbbe0594",
   "metadata": {},
   "outputs": [],
   "source": [
    "chain = model | parser"
   ]
  },
  {
   "cell_type": "code",
   "execution_count": 14,
   "id": "caa6a725-3109-4ff1-bca4-d37518fe2413",
   "metadata": {},
   "outputs": [
    {
     "data": {
      "text/plain": [
       "'こんにちは！あなたは何ができるのですか？\\n\\n（Here is the translation in Japanese. \"嗨~\" is often omitted in formal or written contexts, so it\\'s not included in the translation. The question mark at the end is also removed to make it sound more natural in Japanese.)'"
      ]
     },
     "execution_count": 14,
     "metadata": {},
     "output_type": "execute_result"
    }
   ],
   "source": [
    "chain.invoke([\n",
    "    SystemMessage(content=\"Translate the following from ˊ中文 into 日文\"),\n",
    "    HumanMessage(content=\"嗨～ 你可以做到什麼事情？\"),\n",
    "])"
   ]
  },
  {
   "cell_type": "markdown",
   "id": "f3ee874a-bf45-4fa0-a13e-f3b8003a0f05",
   "metadata": {},
   "source": [
    "# [PromptTemplate](https://python.langchain.com/api_reference/core/prompts/langchain_core.prompts.chat.ChatPromptTemplate.html) 提示詞模板\n",
    "\n",
    "`PromptTemplates` 是 LangChain 中的一個概念，旨在協助這種轉換。<br/>\n",
    "它們接收原始使用者輸入並傳回準備傳遞到語言模型的資料（提示）。"
   ]
  },
  {
   "cell_type": "code",
   "execution_count": 51,
   "id": "4a42a1ac-b12f-48b8-8a60-40630133d7f6",
   "metadata": {},
   "outputs": [
    {
     "data": {
      "text/plain": [
       "ChatPromptValue(messages=[SystemMessage(content='翻譯語言到對應的語言: 日文:', additional_kwargs={}, response_metadata={}), HumanMessage(content='最近安好？', additional_kwargs={}, response_metadata={})])"
      ]
     },
     "execution_count": 51,
     "metadata": {},
     "output_type": "execute_result"
    }
   ],
   "source": [
    "from langchain_core.prompts import ChatPromptTemplate\n",
    "\n",
    "system_template = \"翻譯語言到對應的語言: {language}:\"\n",
    "\n",
    "prompt_template = ChatPromptTemplate.from_messages(\n",
    "    [(\"system\", system_template), (\"user\", \"{text}\")]\n",
    ")\n",
    "\n",
    "result = prompt_template.invoke({\"language\": \"日文\", \"text\": \"最近安好？\"})\n",
    "\n",
    "result"
   ]
  },
  {
   "cell_type": "code",
   "execution_count": 35,
   "id": "fced47f3-717e-4326-9e7c-f1bd8b905af5",
   "metadata": {},
   "outputs": [
    {
     "data": {
      "text/plain": [
       "'日本語で同じ意味をもつ文章を下記に翻訳します：\\n\\n「こんにちは！最近どこか良い所に行きませんか？」'"
      ]
     },
     "execution_count": 35,
     "metadata": {},
     "output_type": "execute_result"
    }
   ],
   "source": [
    "chain = prompt_template | model | parser\n",
    "\n",
    "result = chain.invoke({\"language\": \"日文\", \"text\": \"你好嗎！ 最近有什麼地方好去的？\"})\n",
    "\n",
    "result"
   ]
  },
  {
   "cell_type": "code",
   "execution_count": 37,
   "id": "a8f808ea-093f-4e05-ba97-8db665c5e620",
   "metadata": {},
   "outputs": [
    {
     "ename": "AttributeError",
     "evalue": "'str' object has no attribute 'to_messages'",
     "output_type": "error",
     "traceback": [
      "\u001b[0;31m---------------------------------------------------------------------------\u001b[0m",
      "\u001b[0;31mAttributeError\u001b[0m                            Traceback (most recent call last)",
      "Cell \u001b[0;32mIn[37], line 1\u001b[0m\n\u001b[0;32m----> 1\u001b[0m \u001b[43mresult\u001b[49m\u001b[38;5;241;43m.\u001b[39;49m\u001b[43mto_messages\u001b[49m()\n",
      "\u001b[0;31mAttributeError\u001b[0m: 'str' object has no attribute 'to_messages'"
     ]
    }
   ],
   "source": [
    "result.to_messages()"
   ]
  },
  {
   "cell_type": "code",
   "execution_count": 11,
   "id": "3fef015d-4902-446f-91bb-46252301e6aa",
   "metadata": {},
   "outputs": [
    {
     "name": "stdout",
     "output_type": "stream",
     "text": [
      "好的，讓我們一起分析一下 \"LangChain\"。\n",
      "\n",
      "首先，“Lang”這部分顯然是指“語言”，那麼“Chain”可能是指一個連接、串聯的概念。如果考慮到技術領域，\"LangChain\"這個詞組可能與自然語言處理(NLP)領域相關。\n",
      "\n",
      "在NLP領域中，有很多框架和工具都嘗試通過不同的方式來提高我們與計算機進行溝通的能力，尤其是當涉及到人類語言（比如中文、英文等）時。因此，“LangChain”可能會是一個新興的框架或項目，專注於利用一種或多種技術來構建一個高效且強大的自然語言處理系統。\n",
      "\n",
      "總之，\"LangChain\"這個詞組可能指的是在自然語言處理領域內的一個特定項目、框架或是工具。為了更準確地回答你的問題，需要更多的背景信息或者是具體來源。\n",
      "\n",
      "如果你有更多的信息或者不同的理解方向，請告訴我！\n"
     ]
    }
   ],
   "source": [
    "from langchain_core.prompts import ChatPromptTemplate\n",
    "from langchain_ollama.llms import OllamaLLM\n",
    "\n",
    "template = \"\"\"問題: {question}\n",
    "\n",
    "回答: 讓我們一步一步的思考.\"\"\"\n",
    "\n",
    "prompt = ChatPromptTemplate.from_template(template)\n",
    "\n",
    "model = OllamaLLM(model=\"qwen2.5:3b\")\n",
    "\n",
    "chain = prompt | model\n",
    "\n",
    "result = chain.invoke({\"question\": \"什麼是 LangChain?\"})\n",
    "\n",
    "print(result)"
   ]
  }
 ],
 "metadata": {
  "kernelspec": {
   "display_name": "Python 3 (ipykernel)",
   "language": "python",
   "name": "python3"
  },
  "language_info": {
   "codemirror_mode": {
    "name": "ipython",
    "version": 3
   },
   "file_extension": ".py",
   "mimetype": "text/x-python",
   "name": "python",
   "nbconvert_exporter": "python",
   "pygments_lexer": "ipython3",
   "version": "3.11.7"
  }
 },
 "nbformat": 4,
 "nbformat_minor": 5
}
